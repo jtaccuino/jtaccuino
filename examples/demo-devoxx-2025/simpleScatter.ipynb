{
    "cells": [
        {
            "cell_type": "markdown",
            "id": "9a3baaea-7020-4302-89d8-d7e8dcd3ec4d",
            "metadata": {
            },
            "source": "## Scatter Plot"
        },
        {
            "cell_type": "code",
            "execution_count": 0,
            "id": "40e3a3c6-486f-4d4f-aa23-390a13c9a470",
            "metadata": {
            },
            "outputs": [
            ],
            "source": "use(JTExtension.FX_CHARTS_EXTENSION)"
        },
        {
            "cell_type": "code",
            "execution_count": 0,
            "id": "459fb03c-08b2-4dc0-b778-4dea0bb6effe",
            "metadata": {
            },
            "outputs": [
            ],
            "source": "var r = new Random();"
        },
        {
            "cell_type": "code",
            "execution_count": 0,
            "id": "04bc856c-8c0d-4ecc-91b5-300e4f8ededc",
            "metadata": {
            },
            "outputs": [
            ],
            "source": "var y = r.doubles(105, -5, 10).toArray();\nvar x = r.ints(105, 23, 98).toArray();\n"
        },
        {
            "cell_type": "code",
            "execution_count": 0,
            "id": "85ed2e70-2d72-48f5-bacb-341973d8412a",
            "metadata": {
            },
            "outputs": [
            ],
            "source": "var chart = scatterFx(x,y, \"Random X\", \"Random Y\", \"Random data\");\ndisplay(chart);"
        },
        {
            "cell_type": "code",
            "execution_count": 0,
            "id": "1139d7aa-833a-4b36-950d-fa1706bac829",
            "metadata": {
            },
            "outputs": [
            ],
            "source": "var dataPoints = IntStream.range(0, x.length)\n    .mapToObj(i -> new DataPoint(x[i],y[i]))\n    .collect(Collectors.groupingBy(d -> d.y() > 0))"
        },
        {
            "cell_type": "code",
            "execution_count": 0,
            "id": "4247bcd8-fc15-45fd-aba0-79b172767f61",
            "metadata": {
            },
            "outputs": [
            ],
            "source": "var data = dataPoints.entrySet().stream().map(p-> convertToDoubles(p.getValue())).toList();\n"
        },
        {
            "cell_type": "code",
            "execution_count": 0,
            "id": "472b0e73-26ed-492b-84fd-10681e4dd289",
            "metadata": {
            },
            "outputs": [
            ],
            "source": "var multiChart = scatterPlot(List.of(data.get(0)[0],data.get(1)[0]),List.of(data.get(0)[1],data.get(1)[1]) ,\n            \"x Values\", \"y Values\", new String[]{\"neg\",\"pos\"});\ndisplay(multiChart)\n"
        }
    ],
    "metadata": {
        "language_info": {
            "version": "25",
            "name": "Java"
        },
        "kernel_info": {
            "version": "0.1",
            "name": "JTaccuino"
        }
    },
    "nbformat": 4,
    "nbformat_minor": 5
}