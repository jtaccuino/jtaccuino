{
    "cells": [
        {
            "cell_type": "markdown",
            "id": "43b9447e-f02a-4a86-b687-18eebd0b3705",
            "metadata": {
            },
            "source": "## Advanced Demo for processing and displaying data\n\nThis notebook displays known objects around earth based on the official publicly available data from [space-track.org](https://space-track.org).\n\nFor calculation purposes [Orekit](https://orekit.org) an \"An accurate and efficient core layer for space flight dynamics applications\" is used."
        },
        {
            "cell_type": "markdown",
            "id": "881c0df1-6f5f-49d6-b8cb-9614b1112e3e",
            "metadata": {
            },
            "source": "First load the 3 line elements based file from disk"
        },
        {
            "cell_type": "code",
            "execution_count": 0,
            "id": "6ffe9c3c-d710-471e-b70e-aa1d7e0bd562",
            "metadata": {
            },
            "outputs": [
            ],
            "source": "import java.nio.file.Files;\nimport java.nio.file.Paths;\nvar lines = Files.readAllLines(cwd.resolve(\"space-track-data/full-three-line.txt\"));"
        },
        {
            "cell_type": "markdown",
            "id": "269ca4d3-dad4-475f-9cdf-280f5f34f656",
            "metadata": {
            },
            "source": "Create a record to hold the data."
        },
        {
            "cell_type": "code",
            "execution_count": 0,
            "id": "6d0e6c7c-aebc-4060-a1d4-66df51601528",
            "metadata": {
            },
            "outputs": [
            ],
            "source": "record Satellite(String name, String tle1, String tle2){};"
        },
        {
            "cell_type": "markdown",
            "id": "dcdd6f3f-d9a9-4738-9cf6-90956e6d2ca3",
            "metadata": {
            },
            "source": "Build a list of record objects representing the 3 line elements.\n\nThis implementation uses a Java preview feature called _Gatherers_ (see [JEP 485](https://openjdk.org/jeps/485))"
        },
        {
            "cell_type": "code",
            "execution_count": 0,
            "id": "6755c96e-3f0e-45a7-9e36-0ca5b43ca9f9",
            "metadata": {
            },
            "outputs": [
            ],
            "source": "import java.util.stream.Gatherers;\nvar satellites = lines.stream().gather(Gatherers.windowFixed(3))\n     .map(l -> new Satellite(l.get(0).trim(), l.get(1), l.get(2)))\n//     .filter(s -> s.name().contains(\"STARLINK\"))\n//     .filter(s -> s.name().contains(\" DEB\"))\n     .toList();\nsatellites.size()"
        },
        {
            "cell_type": "markdown",
            "id": "bafb9b15-6c59-433f-b681-3367912d61f5",
            "metadata": {
            },
            "source": "Show the list of satellites as a table"
        },
        {
            "cell_type": "code",
            "execution_count": 0,
            "id": "d58de4a1-ccb1-4517-bc3d-a3f10f51439c",
            "metadata": {
            },
            "outputs": [
            ],
            "source": "display(satellites)"
        },
        {
            "cell_type": "code",
            "execution_count": 0,
            "id": "bc50b26e-7cbd-4b34-8777-b224a784b481",
            "metadata": {
            },
            "outputs": [
            ],
            "source": "addDependency(\"org.orekit:orekit:12.1.3\");"
        },
        {
            "cell_type": "code",
            "execution_count": 0,
            "id": "3b7a5e70-4264-4a61-957d-3771063f9e24",
            "metadata": {
            },
            "outputs": [
            ],
            "source": "import org.orekit.data.DataContext;\nimport org.orekit.data.DirectoryCrawler;\nimport org.orekit.data.NetworkCrawler;\nimport java.io.File;\nimport java.net.URL;"
        },
        {
            "cell_type": "code",
            "execution_count": 0,
            "id": "b0803855-fcec-4c8b-af08-a9f6f7fdf125",
            "metadata": {
            },
            "outputs": [
            ],
            "source": "// This initializes orekit with latest data provided from orkeit gitlab. Due to file size this may take a while to download\nvar dp = new NetworkCrawler(new URL(\"https://gitlab.orekit.org/orekit/orekit-data/-/archive/main/orekit-data-main.zip\"));\n// If you want to this faster download the file from the beforehand URL and store it locally. \n// Comment the before line, uncomment the line below and make sure that the directory points to the place of the local copy\n// Remember you can use cwd to get the current working directory of the notebook for relative data location\n// var dp = new DirectoryCrawler(cwd.resolve(\"orekit-data\").toFile());\n\nDataContext.getDefault().getDataProvidersManager().addProvider(dp);"
        },
        {
            "cell_type": "code",
            "execution_count": 0,
            "id": "fe06e9c5-e6c9-418e-8831-86774bcecf1c",
            "metadata": {
            },
            "outputs": [
            ],
            "source": "import java.time.LocalDateTime;\nimport org.orekit.time.AbsoluteDate;\nimport org.orekit.time.TimeScalesFactory;\nvar localDateTime = LocalDateTime.now();\nvar absoluteDate =new AbsoluteDate(localDateTime.getYear(), \n                localDateTime.getMonthValue(), localDateTime.getDayOfMonth(), \n                localDateTime.getHour(), localDateTime.getMinute(), localDateTime.getSecond(), \n                TimeScalesFactory.getUTC());\nabsoluteDate"
        },
        {
            "cell_type": "code",
            "execution_count": 0,
            "id": "ecef6aa3-037d-4cc6-af4c-24974bec4559",
            "metadata": {
            },
            "outputs": [
            ],
            "source": "import javafx.geometry.Point3D;"
        },
        {
            "cell_type": "code",
            "execution_count": 0,
            "id": "19da0625-f5fa-4cf7-8b92-ca09250305cd",
            "metadata": {
            },
            "outputs": [
            ],
            "source": "import org.orekit.propagation.analytical.tle.TLE;\nimport org.orekit.propagation.analytical.tle.TLEPropagator;\nvar points = satellites.stream().parallel()\n  .map(s -> new TLE(s.tle1(), s.tle2()))\n  .map(tle -> TLEPropagator.selectExtrapolator(tle))\n  .map(propagator -> propagator.getPVCoordinates(absoluteDate))\n  .map(pv -> new Point3D((float) pv.getPosition().getY(), \n                         -(float) pv.getPosition().getZ(),\n                         -(float) pv.getPosition().getX())).toList();"
        },
        {
            "cell_type": "code",
            "execution_count": 0,
            "id": "34f52127-dd37-4ef8-9111-8db12015889e",
            "metadata": {
            },
            "outputs": [
            ],
            "source": "import javafx.scene.image.Image;\nimport javafx.scene.image.ImageView;\nimport javafx.scene.shape.Sphere;\nimport javafx.scene.paint.Color;\nimport javafx.scene.paint.PhongMaterial;\nvar world = new Image(\"https://eoimages.gsfc.nasa.gov/images/imagerecords/147000/147190/eo_base_2020_clean_720x360.jpg\");\nvar worldView = new ImageView(world);\nvar semiMajorAxis = 63.781370*5;\nvar sphere = new Sphere(semiMajorAxis, 512);\n\nvar worldMaterial = new PhongMaterial();\nworldMaterial.setSpecularMap(world);\nworldMaterial.setDiffuseMap(world);\nsphere.setMaterial(worldMaterial);"
        },
        {
            "cell_type": "code",
            "execution_count": 0,
            "id": "19e64ace-a0ff-4424-af11-a4861523c4c7",
            "metadata": {
            },
            "outputs": [
            ],
            "source": "addDependency(\"org.fxyz3d:fxyz3d:0.6.0\");"
        },
        {
            "cell_type": "code",
            "execution_count": 0,
            "id": "c1a78697-0410-423b-8a60-2877faade848",
            "metadata": {
            },
            "outputs": [
            ],
            "source": "import javafx.scene.Group;\nimport javafx.scene.DepthTest;\nimport javafx.scene.SubScene;\nimport javafx.scene.SceneAntialiasing;\nimport javafx.scene.PerspectiveCamera;\nimport org.fxyz3d.utils.CameraTransformer;\nimport org.fxyz3d.shapes.primitives.ScatterMesh;\nimport org.fxyz3d.geometry.Point3D;\n\nvar fxyzPoints = points.stream().map(p -> new org.fxyz3d.geometry.Point3D(p.getX()/10000, p.getY()/10000, p.getZ()/10000)).toList();\n\nvar mesh = new ScatterMesh(fxyzPoints, true, 20, 0);\n\nvar camera = new PerspectiveCamera(true);\ncamera.setVerticalFieldOfView(false);\ncamera.setDepthTest(DepthTest.ENABLE);\ncamera.setNearClip(0.001);\ncamera.setFarClip(100000);\ncamera.setTranslateZ(-17500);\n\nvar cameraTransform = new CameraTransformer();\ncameraTransform.getChildren().add(camera);\n\nmesh.setTextureModeVertices3D(1530, p -> p.f);\nvar root3d = new Group(sphere, cameraTransform, mesh);\nvar subScene = new SubScene(root3d, 800, 800, true, SceneAntialiasing.DISABLED);\n\nsubScene.setCamera(camera);\n"
        },
        {
            "cell_type": "code",
            "execution_count": 0,
            "id": "f73de66e-36d4-4ed3-bf54-f1a076767aac",
            "metadata": {
            },
            "outputs": [
            ],
            "source": "display(subScene)"
        }
    ],
    "metadata": {
        "language_info": {
            "name": "Java",
            "version": "25"
        },
        "kernel_info": {
            "name": "JTaccuino",
            "version": "0.1"
        }
    },
    "nbformat": 4,
    "nbformat_minor": 5
}