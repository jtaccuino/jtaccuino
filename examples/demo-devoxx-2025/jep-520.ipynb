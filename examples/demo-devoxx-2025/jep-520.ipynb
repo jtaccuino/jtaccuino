{
    "cells": [
        {
            "cell_type": "code",
            "execution_count": 0,
            "id": "d6560103-2394-43cd-8ee7-2be06345bcbb",
            "metadata": {
            },
            "outputs": [
            ],
            "source": "import jdk.jfr.Configuration;\nimport jdk.jfr.EventType;\nimport jdk.jfr.FlightRecorder;\nimport jdk.jfr.Recording;"
        },
        {
            "cell_type": "code",
            "execution_count": 0,
            "id": "daa57755-1b80-451c-8cbe-4e18b841f714",
            "metadata": {
            },
            "outputs": [
            ],
            "source": "var cs = Configuration.getConfigurations();\ncs.stream().map(c -> c.getName()).forEach(c-> println(\"Configuration -> %s\",c))"
        },
        {
            "cell_type": "code",
            "execution_count": 0,
            "id": "eba7295c-085e-43f2-9152-08046cdcf47b",
            "metadata": {
            },
            "outputs": [
            ],
            "source": "var conf = Configuration.getConfiguration(\"profile\");\nvar settings = conf.getSettings();\nsettings.put(\"jdk.MethodTrace#enabled\", \"true\");\nsettings.put(\"jdk.MethodTrace#stackTrace\", \"true\");\nsettings.put(\"jdk.MethodTrace#threshold\", \"1 ms\");\nsettings.put(\"jdk.MethodTrace#filter\", \"@org.jtaccuino.jshell.StopWatch\");\nsettings.put(\"jdk.MethodTiming#enabled\",\"true\");\nsettings.put(\"jdk.MethodTiming#filter\",\"@org.jtaccuino.jshell.StopWatch\");\nvar rec = new Recording(settings);\nrec.setToDisk(false);\ndisplay(rec.getSettings().entrySet())"
        },
        {
            "cell_type": "code",
            "execution_count": 0,
            "id": "738c5ce9-f868-453e-aa2f-72b6ab982dbd",
            "metadata": {
            },
            "outputs": [
            ],
            "source": "@org.jtaccuino.jshell.StopWatch\ndouble myMethod() throws Exception {\n  var result = 0d;  \n  for (int i=0; i<1000; i++) {\n      result += Math.pow(i,2)*Math.sin(i)*Math.cos(i);\n      result += Math.pow(i,4)*Math.cos(i)*Math.sin(i);\n      result += Math.pow(i,6)*Math.sin(i)*Math.cos(i);\n      Thread.sleep(10);\n  }\n  return result;\n}"
        },
        {
            "cell_type": "code",
            "execution_count": 0,
            "id": "03455b1e-44bb-4d6e-bfca-2ccb3dfed694",
            "metadata": {
            },
            "outputs": [
            ],
            "source": "rec.start();"
        },
        {
            "cell_type": "code",
            "execution_count": 0,
            "id": "7b3daa64-7e9f-47b6-a5a7-3aad00c01904",
            "metadata": {
            },
            "outputs": [
            ],
            "source": "var result = myMethod()"
        },
        {
            "cell_type": "code",
            "execution_count": 0,
            "id": "b8656924-815e-4692-b487-e92d18fa4f32",
            "metadata": {
            },
            "outputs": [
            ],
            "source": "rec.dump(Path.of(cwd + \"/jfr.dump\"));\nrec.stop();"
        },
        {
            "cell_type": "code",
            "execution_count": 0,
            "id": "f60de7ba-83e5-43e4-af85-2220877fe7b1",
            "metadata": {
            },
            "outputs": [
            ],
            "source": "println(\"Result: %f\", result)"
        },
        {
            "cell_type": "code",
            "execution_count": 0,
            "id": "f2f59fd3-5c50-4f70-85e9-a09e560d1f24",
            "metadata": {
            },
            "outputs": [
            ],
            "source": "import jdk.jfr.consumer.RecordedEvent;\nimport jdk.jfr.consumer.RecordingFile;"
        },
        {
            "cell_type": "code",
            "execution_count": 0,
            "id": "16d883ca-8e2a-40cf-8c0a-a4ca3d43e07e",
            "metadata": {
            },
            "outputs": [
            ],
            "source": "var events = RecordingFile.readAllEvents(Path.of(cwd + \"/jfr.dump\"));\nevents.size()"
        },
        {
            "cell_type": "code",
            "execution_count": 0,
            "id": "80c9c5a8-bfa2-4379-942d-a3510f3c2af2",
            "metadata": {
            },
            "outputs": [
            ],
            "source": "var histogramData = events.stream().collect(Collectors.groupingBy(event -> event.getEventType().getName(), Collectors.counting()));\nhistogramData"
        },
        {
            "cell_type": "code",
            "execution_count": 0,
            "id": "1b5fcf3c-9021-469f-a4bd-f49d3a3d297d",
            "metadata": {
            },
            "outputs": [
            ],
            "source": "histogramData.get(\"jdk.MethodTiming\")"
        },
        {
            "cell_type": "code",
            "execution_count": 0,
            "id": "ab40842a-0585-465e-a88b-186dd5756286",
            "metadata": {
            },
            "outputs": [
            ],
            "source": "histogramData.get(\"jdk.MethodTrace\")"
        },
        {
            "cell_type": "code",
            "execution_count": 0,
            "id": "a617f896-aa41-4e56-ad69-ba4625962a4c",
            "metadata": {
            },
            "outputs": [
            ],
            "source": "histogramData.get(\"jdk.CPULoad\")"
        },
        {
            "cell_type": "code",
            "execution_count": 0,
            "id": "d3eac7d6-0970-4c68-a89e-ca75cdf37e4e",
            "metadata": {
            },
            "outputs": [
            ],
            "source": "import javafx.scene.chart.BarChart;\nimport javafx.scene.chart.CategoryAxis;\nimport javafx.scene.chart.NumberAxis;\nimport javafx.scene.chart.XYChart;\nimport javafx.util.StringConverter;"
        },
        {
            "cell_type": "code",
            "execution_count": 0,
            "id": "3045644e-44bd-4e22-8d89-e6da999fcd33",
            "metadata": {
            },
            "outputs": [
            ],
            "source": "var xAxis = new CategoryAxis();\nxAxis.setLabel(\"Event Type\");\nvar yAxis = new NumberAxis();\nyAxis.setLabel(\"Count\");\n\nvar barChart = new BarChart<>(xAxis, yAxis);\nbarChart.setTitle(\"JFR Event Type Distribution\");\nbarChart.setLegendVisible(false);\nbarChart.setCategoryGap(5); "
        },
        {
            "cell_type": "code",
            "execution_count": 0,
            "id": "c62a7209-f214-4ea1-a2a4-42dfa9495afa",
            "metadata": {
            },
            "outputs": [
            ],
            "source": "var series = new XYChart.Series<String, Number>();\nhistogramData.entrySet().stream()\n    .sorted(Map.Entry.<String, Long>comparingByValue().reversed())\n    .forEach(entry -> series.getData().add(new XYChart.Data<>(entry.getKey(), entry.getValue())));\nbarChart.getData().add(series);"
        },
        {
            "cell_type": "code",
            "execution_count": 0,
            "id": "d953d498-ac03-4d63-944c-e6cd1f5a6619",
            "metadata": {
            },
            "outputs": [
            ],
            "source": "display(barChart)"
        },
        {
            "cell_type": "code",
            "execution_count": 0,
            "id": "88123346-015a-4f11-bae1-682d724774de",
            "metadata": {
            },
            "outputs": [
            ],
            "source": "var methodTiming = events.stream().filter(e -> e.getEventType().getName().equals(\"jdk.MethodTiming\")).toList();\nmethodTiming.size();"
        },
        {
            "cell_type": "code",
            "execution_count": 0,
            "id": "74ec4e64-9bc8-406d-abcf-73e0e153a06f",
            "metadata": {
            },
            "outputs": [
            ],
            "source": "methodTiming.forEach(e -> println(\"\"+e));"
        },
        {
            "cell_type": "code",
            "execution_count": 0,
            "id": "37bf8854-d64c-4498-a792-f2c09bac947b",
            "metadata": {
            },
            "outputs": [
            ],
            "source": "var methodTrace = events.stream().filter(e -> e.getEventType().getName().equals(\"jdk.MethodTrace\")).toList();\nmethodTrace.size();"
        },
        {
            "cell_type": "code",
            "execution_count": 0,
            "id": "c8b70a2d-62fa-48f6-a6d7-4f53bec89203",
            "metadata": {
            },
            "outputs": [
            ],
            "source": "methodTrace.forEach(e -> println(\"\"+e));"
        },
        {
            "cell_type": "code",
            "execution_count": 0,
            "id": "e4c67470-546e-44fd-8e76-de5d2ea52ba4",
            "metadata": {
            },
            "outputs": [
            ],
            "source": "var stacks = methodTrace.stream().map(e -> e.getStackTrace()).toList();\nstacks.size();"
        },
        {
            "cell_type": "code",
            "execution_count": 0,
            "id": "60a20bde-2efb-4c15-8acf-9b63ee0b0b0f",
            "metadata": {
            },
            "outputs": [
            ],
            "source": "display(stacks.get(0).getFrames().stream().map(f -> f.getMethod().getType().getName() + \".\" + f.getMethod().getName() +\"-\"+f.getLineNumber()).toList())"
        },
        {
            "cell_type": "code",
            "execution_count": 0,
            "id": "1ada1b48-bce1-499f-8213-f16063b0ee55",
            "metadata": {
            },
            "outputs": [
            ],
            "source": "import javafx.scene.chart.LineChart;"
        },
        {
            "cell_type": "code",
            "execution_count": 0,
            "id": "f06fed96-6163-4a09-8e51-5845b579ba10",
            "metadata": {
            },
            "outputs": [
            ],
            "source": "var xAxis = new NumberAxis();\nxAxis.setLabel(\"Time\");\nxAxis.setForceZeroInRange(false);\n\nvar yAxis = new NumberAxis();\nyAxis.setLabel(\"CPU Load (%)\");\nyAxis.setLowerBound(0);\nyAxis.setUpperBound(100);\n\nvar lineChart = new LineChart<Number,Number>(xAxis, yAxis);\nlineChart.setTitle(\"Machine Total CPU Load Over Time\");\nlineChart.setCreateSymbols(false); // Good for dense time-series data\n\nvar formatter = DateTimeFormatter.ofPattern(\"HH:mm:ss\");\n\nxAxis.setTickLabelFormatter(new StringConverter<Number>() {\n            @Override\n            public String toString(Number object) {\n                if (object == null) {\n                    return \"\";\n                }\n                long millis = object.longValue();\n                Instant instant = Instant.ofEpochMilli(millis);\n                LocalDateTime dateTime = LocalDateTime.ofInstant(instant, ZoneId.systemDefault());\n                return formatter.format(dateTime);\n            }\n\n            @Override\n            public Number fromString(String string) {\n                // Not needed for display purposes, but required by the interface\n                return 0;\n            }\n        });\n\nvar series = new XYChart.Series<Number,Number>();\nseries.setName(\"Machine Total Load\");\n\nvar machineTotal = events.stream()\n    .filter(e -> e.getEventType().getName().equals(\"jdk.CPULoad\"))\n    .sorted(Comparator.comparing(RecordedEvent::getStartTime))\n    .map(e -> new XYChart.Data<Number, Number>(e.getStartTime().toEpochMilli(), e.getDouble(\"machineTotal\") * 100))\n    .toList();\n\nseries.getData().addAll(machineTotal);\nlineChart.getData().add(series);\ndisplay(lineChart);"
        }
    ],
    "metadata": {
        "language_info": {
            "name": "Java",
            "version": "25"
        },
        "kernel_info": {
            "name": "JTaccuino",
            "version": "0.1"
        }
    },
    "nbformat": 4,
    "nbformat_minor": 5
}