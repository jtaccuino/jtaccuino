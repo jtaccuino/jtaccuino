{
    "cells": [
        {
            "cell_type": "markdown",
            "id": "9a3baaea-7020-4302-89d8-d7e8dcd3ec4d",
            "metadata": {
            },
            "source": "## Plotting"
        },
        {
            "cell_type": "markdown",
            "id": "ba6d8599-ccb8-404a-814b-4ddadfdd40e1",
            "metadata": {
            },
            "source": "Enable the on demand extension for simple plotting with FXCharts"
        },
        {
            "cell_type": "code",
            "execution_count": 0,
            "id": "7f2f32e7-c9ba-4c62-836d-5f4cd99d9deb",
            "metadata": {
            },
            "outputs": [
            ],
            "source": "use(JTExtension.FX_CHARTS_EXTENSION)"
        },
        {
            "cell_type": "markdown",
            "id": "3c06a1f5-4e1f-4a82-9a38-7b9fcf7b9ebb",
            "metadata": {
            },
            "source": "Define a simple graph, based on a function, and a range for both axis"
        },
        {
            "cell_type": "code",
            "execution_count": 0,
            "id": "85ed2e70-2d72-48f5-bacb-341973d8412a",
            "metadata": {
            },
            "outputs": [
            ],
            "source": "var sin = plotFx(Math::sin, -10, +10, 0.1, \"x\", \"y\", \"sin(x)\");\n"
        },
        {
            "cell_type": "code",
            "execution_count": 0,
            "id": "e3359858-9fe5-4b95-a8e6-a9bb8beaef5d",
            "metadata": {
            },
            "outputs": [
            ],
            "source": "display(sin);"
        },
        {
            "cell_type": "code",
            "execution_count": 0,
            "id": "c6efea14-f85f-4cd8-b675-51b9c22bfba7",
            "metadata": {
            },
            "outputs": [
            ],
            "source": "var cos = plotFx(Math::cos, -10, +10, 0.1, \"x\", \"y\", \"cos(x)\");"
        },
        {
            "cell_type": "code",
            "execution_count": 0,
            "id": "c3de7783-5273-4ca2-aeaa-595ab3996cba",
            "metadata": {
            },
            "outputs": [
            ],
            "source": "display(cos);"
        },
        {
            "cell_type": "code",
            "execution_count": 0,
            "id": "20ef1c48-17f5-4e50-b5fe-05b97f38d5cf",
            "metadata": {
            },
            "outputs": [
            ],
            "source": "var sincos = plotFx(x->Math.sin(x)*Math.cos(x),1 -10, +10, 0.1, \"x\", \"y\", \"cos(x)\");"
        },
        {
            "cell_type": "code",
            "execution_count": 0,
            "id": "d207a258-df3f-466d-a45a-3e415ab068da",
            "metadata": {
            },
            "outputs": [
            ],
            "source": "display(sincos)"
        }
    ],
    "metadata": {
        "language_info": {
            "name": "Java",
            "version": "25"
        },
        "kernel_info": {
            "name": "JTaccuino",
            "version": "0.1"
        }
    },
    "nbformat": 4,
    "nbformat_minor": 5
}