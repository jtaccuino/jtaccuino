{
    "cells": [
        {
            "cell_type": "markdown",
            "id": "394e1089-779e-4396-8641-57d40662c322",
            "metadata": {
            },
            "source": "# RAG Example as Notebook"
        },
        {
            "cell_type": "markdown",
            "id": "753407f1-d7fc-4b86-aaff-6ab4925485e3",
            "metadata": {
            },
            "source": "Activate the LangChain4J extension"
        },
        {
            "cell_type": "code",
            "execution_count": 0,
            "id": "1f7fd653-6c79-4e55-bb67-7456b42c0762",
            "metadata": {
            },
            "outputs": [
            ],
            "source": "use(JTExtension.LANG_CHAIN4J_EXTENSION);"
        },
        {
            "cell_type": "markdown",
            "id": "c8c163ae-9cec-47dc-81bb-faaf63118fd5",
            "metadata": {
            },
            "source": "## Setup some defaults"
        },
        {
            "cell_type": "code",
            "execution_count": 0,
            "id": "c032cf2e-afd8-40e0-8481-2b93a86325a8",
            "metadata": {
            },
            "outputs": [
            ],
            "source": "var OLLAMA_HOST = \"http://localhost:11434\";\nvar chatModelName = \"granite3.3\";\nvar embedModelName =\"granite-embedding\";"
        },
        {
            "cell_type": "markdown",
            "id": "50630bd3-21a6-4583-b23f-ec5276d3f51e",
            "metadata": {
            },
            "source": "## Initialize Local Embedding Model (Ollama)"
        },
        {
            "cell_type": "code",
            "execution_count": 0,
            "id": "45fa0021-028a-4f39-ae29-c73410be9ed8",
            "metadata": {
            },
            "outputs": [
            ],
            "source": "var embeddingModel = OllamaEmbeddingModel.builder()\n .baseUrl(OLLAMA_HOST)\n .modelName(embedModelName)\n .build()"
        },
        {
            "cell_type": "markdown",
            "id": "de5640c5-b069-4c01-8ea6-c4d1cae2c9f7",
            "metadata": {
            },
            "source": "## Initialize Local LLM (Ollama Chat Model)"
        },
        {
            "cell_type": "code",
            "execution_count": 0,
            "id": "38a59511-6bc9-4149-b95f-ca7a64684d2b",
            "metadata": {
            },
            "outputs": [
            ],
            "source": "var chatModel = OllamaChatModel.builder()\n .baseUrl(OLLAMA_HOST)\n .modelName(chatModelName)\n .temperature(0.7)\n .timeout(Duration.ofMinutes(2)) // Adjust timeout if models are slow to respond\n .build();"
        },
        {
            "cell_type": "markdown",
            "id": "1eca32a6-c202-41ab-b97a-6cc2af12ff82",
            "metadata": {
            },
            "source": "## Creating In-Memory Embedding Store... "
        },
        {
            "cell_type": "code",
            "execution_count": 0,
            "id": "f72ed360-163c-4317-944b-d752ae9ad03d",
            "metadata": {
            },
            "outputs": [
            ],
            "source": "var embeddingStore = new InMemoryEmbeddingStore<TextSegment>();"
        },
        {
            "cell_type": "markdown",
            "id": "ae269152-7b36-41ac-ae96-cd28776bfe43",
            "metadata": {
            },
            "source": "## Load and Process Documents\n\nLoad some markdown files describing JEP's\n- 502\n- 507\n- 526\n"
        },
        {
            "cell_type": "code",
            "execution_count": 0,
            "id": "09aa22df-469f-4d7b-b15d-b1f5dd7c321f",
            "metadata": {
            },
            "outputs": [
            ],
            "source": "var jep502= UrlDocumentLoader.load(\"file:///Users/sven/work/jtaccuino_sr_prod/jeps/502.md\", new TextDocumentParser());\nvar jep507= UrlDocumentLoader.load(\"file:///Users/sven/work/jtaccuino_sr_prod/jeps/507.md\", new TextDocumentParser());\nvar jep526= UrlDocumentLoader.load(\"file:///Users/sven/work/jtaccuino_sr_prod/jeps/526.md\", new TextDocumentParser());\nvar documents = List.of(jep502, jep507, jep526);\ndocuments.size()"
        },
        {
            "cell_type": "markdown",
            "id": "1147c91d-2141-4fff-bf89-be799865128b",
            "metadata": {
            },
            "source": "Embed the segments and add them to the embedding store"
        },
        {
            "cell_type": "code",
            "execution_count": 0,
            "id": "683b58c5-2fc2-45f2-9398-3168655d9c95",
            "metadata": {
            },
            "outputs": [
            ],
            "source": "var ingestionResult = EmbeddingStoreIngestor.builder()\n            .embeddingStore(embeddingStore)\n            .embeddingModel(embeddingModel)\n            .documentSplitter(DocumentSplitters.recursive(100, 25))\n            .build()\n            .ingest(documents)"
        },
        {
            "cell_type": "markdown",
            "id": "fe63fa99-539d-45d4-91e1-44f2005dd833",
            "metadata": {
            },
            "source": "## Create a Conversational Retrieval Chain"
        },
        {
            "cell_type": "code",
            "execution_count": 0,
            "id": "378dee7e-13c2-46d0-bd7d-578e5030bf69",
            "metadata": {
            },
            "outputs": [
            ],
            "source": "var contentRetriever = EmbeddingStoreContentRetriever.builder()\n                .embeddingStore(embeddingStore)\n                .embeddingModel(embeddingModel)\n                .maxResults(2)\n                .minScore(0.7)\n                .build()"
        },
        {
            "cell_type": "code",
            "execution_count": 0,
            "id": "cfe52074-189f-4d23-b5c3-d88b21a7338c",
            "metadata": {
            },
            "outputs": [
            ],
            "source": "var queryTransformer = new CompressingQueryTransformer(chatModel);\n"
        },
        {
            "cell_type": "code",
            "execution_count": 0,
            "id": "6b10858e-6ecd-4c4f-bba2-ff877e59450c",
            "metadata": {
            },
            "outputs": [
            ],
            "source": "var retrievalAugmentor = DefaultRetrievalAugmentor.builder()\n                .queryTransformer(queryTransformer)\n                .contentRetriever(contentRetriever)\n                .build()"
        },
        {
            "cell_type": "code",
            "execution_count": 0,
            "id": "17f3be14-898b-40d2-98a0-d5c14bb8422a",
            "metadata": {
            },
            "outputs": [
            ],
            "source": "public interface Assistant {\n    String answer(String query);\n}"
        },
        {
            "cell_type": "code",
            "execution_count": 0,
            "id": "f4777bc3-0505-4b4a-bd25-af75bcfcca2a",
            "metadata": {
            },
            "outputs": [
            ],
            "source": "var assistant = AiServices.builder(Assistant.class).chatModel(chatModel)\n                .retrievalAugmentor(retrievalAugmentor)\n                .chatMemory(MessageWindowChatMemory.withMaxMessages(10))\n                .build();\n"
        },
        {
            "cell_type": "markdown",
            "id": "a82d693a-35bc-402c-b718-472460adffa1",
            "metadata": {
            },
            "source": "RAG System Ready"
        },
        {
            "cell_type": "markdown",
            "id": "1a720c54-5212-491b-bca1-1337990093e0",
            "metadata": {
            },
            "source": "Type your questions"
        },
        {
            "cell_type": "code",
            "execution_count": 0,
            "id": "0e553697-7c98-4c4e-953d-044deccb981c",
            "metadata": {
            },
            "outputs": [
            ],
            "source": "var query = \"Use only local data for answering questions. Pretend you are an expert Java Language Architect, but do not tell me. Format the output to have not more than 80 characters per line in a fluent style. Do not use any enumerative style.\""
        },
        {
            "cell_type": "code",
            "execution_count": 0,
            "id": "a0b779d3-726d-48ba-8cf3-4c112fc23bb2",
            "metadata": {
            },
            "outputs": [
            ],
            "source": "assistant.answer(query)"
        },
        {
            "cell_type": "code",
            "execution_count": 0,
            "id": "9daba1d5-8116-4867-9771-b18224adcabd",
            "metadata": {
            },
            "outputs": [
            ],
            "source": "assistant.answer(\"Tell me about pattern matching for primitive types in Java\")"
        },
        {
            "cell_type": "code",
            "execution_count": 0,
            "id": "6eaa4196-9678-41b3-b226-f553320ef3ab",
            "metadata": {
            },
            "outputs": [
            ],
            "source": "assistant.answer(\"Can you provide some example code\")"
        },
        {
            "cell_type": "code",
            "execution_count": 0,
            "id": "0fa26e1b-06e2-4816-acef-fb2d834956dc",
            "metadata": {
            },
            "outputs": [
            ],
            "source": "assistant.answer(\"Are there some more details on conversions for numerical types with regards to pattern matching?\")"
        },
        {
            "cell_type": "code",
            "execution_count": 0,
            "id": "8df30874-29a9-4ae7-bf88-2c70a7b7bdca",
            "metadata": {
            },
            "outputs": [
            ],
            "source": "assistant.answer(\"Are there implications due the numerical matching between int and float for example\")"
        }
    ],
    "metadata": {
        "kernel_info": {
            "name": "JTaccuino",
            "version": "0.1"
        },
        "language_info": {
            "name": "Java",
            "version": "25"
        }
    },
    "nbformat": 4,
    "nbformat_minor": 5
}