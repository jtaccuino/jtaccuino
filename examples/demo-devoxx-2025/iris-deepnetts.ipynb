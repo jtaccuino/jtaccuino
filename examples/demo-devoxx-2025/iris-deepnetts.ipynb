{
    "cells": [
        {
            "cell_type": "code",
            "execution_count": 0,
            "id": "fedbb86c-0201-4342-be42-16dd71d536bb",
            "metadata": {
            },
            "outputs": [
            ],
            "source": "use(JTExtension.\tDEEP_NETTS_EXTENSION);"
        },
        {
            "cell_type": "code",
            "execution_count": 0,
            "id": "240b1a35-f425-4a48-9e2a-302bb7fcf780",
            "metadata": {
            },
            "outputs": [
            ],
            "source": "var numInputs = 4;\nvar numOutputs = 3;\nLocale.setDefault(Locale.ENGLISH);"
        },
        {
            "cell_type": "markdown",
            "id": "c84a1cd9-e8a3-4801-9df9-bb5a85459852",
            "metadata": {
            },
            "source": "## Reading the Dataset"
        },
        {
            "cell_type": "code",
            "execution_count": 0,
            "id": "38cf9783-cf50-43d2-9b00-5e687047c082",
            "metadata": {
            },
            "outputs": [
            ],
            "source": "byte[] ZIP_MAGIC_NUMBER = { 0x50, 0x4B, 0x03, 0x04 };\nboolean isZipFile(Path path) {\n        if (!Files.exists(path) || !Files.isReadable(path) || path.toFile().length() < ZIP_MAGIC_NUMBER.length) {\n            return false;\n        }\n        try (InputStream is = Files.newInputStream(path)) {\n            byte[] fileHeader = new byte[ZIP_MAGIC_NUMBER.length];\n            if (is.read(fileHeader) != ZIP_MAGIC_NUMBER.length) {\n                return false;\n            }\n            return java.util.Arrays.equals(fileHeader, ZIP_MAGIC_NUMBER);\n        } catch (IOException e) {\n            System.err.println(\"Error reading file header for ZIP check.\");\n            e.printStackTrace();\n            return false;\n        }\n    }"
        },
        {
            "cell_type": "code",
            "execution_count": 0,
            "id": "729c98dd-9b76-44cf-a32e-b4bd1afdd6bc",
            "metadata": {
            },
            "outputs": [
            ],
            "source": "void deleteDirectoryRecursively(Path path) {\n        try {\n            Files.walk(path)\n                 .sorted((a, b) -> b.compareTo(a))\n                 .forEach(p -> {\n                     try {\n                         Files.delete(p);\n                     } catch (IOException e) {\n                         System.err.println(\"Failed to delete path: \" + p);\n                         e.printStackTrace();\n                     }\n                 });\n        } catch (IOException e) {\n            System.err.println(\"Failed to walk directory: \" + path);\n            e.printStackTrace();\n        }\n    }"
        },
        {
            "cell_type": "code",
            "execution_count": 0,
            "id": "05e2cb1f-0532-41b2-813c-8f3055d51c74",
            "metadata": {
            },
            "outputs": [
            ],
            "source": "Optional<Path> load(String urlString) {\n         Path downloadedFile = null;\n\n        try {\n            URL url = new URL(urlString);\n            downloadedFile = Files.createTempFile(\"download-\", \".tmp\");\n            Files.delete(downloadedFile);\n\n            try (InputStream inputStream = url.openStream()) {\n                Files.copy(inputStream, downloadedFile);\n            }\n\n            if (isZipFile(downloadedFile)) {\n                Path tempDir = Files.createTempDirectory(\"unpacked-\");\n                try (ZipInputStream zipStream = new ZipInputStream(Files.newInputStream(downloadedFile))) {\n                    ZipEntry entry;\n                    while ((entry = zipStream.getNextEntry()) != null) {\n                        Path entryPath = tempDir.resolve(entry.getName()).normalize();\n                        if (!entryPath.startsWith(tempDir)) {\n                            // Security check to prevent Zip Slip vulnerability\n                            throw new IOException(\"Zip entry is outside of the target directory: \" + entry.getName());\n                        }\n                        if (entry.isDirectory()) {\n                            Files.createDirectories(entryPath);\n                        } else {\n                            Files.createDirectories(entryPath.getParent());\n                            Files.copy(zipStream, entryPath);\n                        }\n                    }\n                }\n                Files.delete(downloadedFile);\n                return Optional.of(tempDir);\n            } else {\n               return Optional.of(downloadedFile);\n            }\n\n        } catch (IOException e) {\n            System.err.println(\"Failed to download or process file from URL: \" + urlString);\n            e.printStackTrace();\n            if (downloadedFile != null) {\n                try {\n                    Files.deleteIfExists(downloadedFile);\n                } catch (IOException cleanupException) {\n                    System.err.println(\"Failed to clean up downloaded file: \" + cleanupException.getMessage());\n                }\n            }\n            return Optional.empty();\n        }\n    }\n"
        },
        {
            "cell_type": "code",
            "execution_count": 0,
            "id": "f3905662-71dd-4054-8267-695470dd4d90",
            "metadata": {
            },
            "outputs": [
            ],
            "source": "var iris = load(\"https://archive.ics.uci.edu/static/public/53/iris.zip\").get().resolve(\"iris.data\");\niris"
        },
        {
            "cell_type": "code",
            "execution_count": 0,
            "id": "a2789757-f0b7-49b9-a808-3685234d4023",
            "metadata": {
            },
            "outputs": [
            ],
            "source": "var df = Csv.loader()\n          .floatCol(0)\n          .floatCol(1)\n          .floatCol(2)\n          .floatCol(3)\n          .load(iris);\ndf"
        },
        {
            "cell_type": "code",
            "execution_count": 0,
            "id": "40f77882-b346-4f61-bd24-e130bd3c8616",
            "metadata": {
            },
            "outputs": [
            ],
            "source": "import org.dflib.print.TabularPrinter;\nimport javafx.scene.control.Label;\nvar printer = new TabularPrinter();"
        },
        {
            "cell_type": "code",
            "execution_count": 0,
            "id": "01c56a4c-0c26-4eb2-84c8-113e94dd4bd1",
            "metadata": {
            },
            "outputs": [
            ],
            "source": "printer.print(df)"
        },
        {
            "cell_type": "code",
            "execution_count": 0,
            "id": "42631441-fde1-4d63-9076-29e340313e48",
            "metadata": {
            },
            "outputs": [
            ],
            "source": "import static org.dflib.Exp.*;"
        },
        {
            "cell_type": "code",
            "execution_count": 0,
            "id": "4ab1e6e0-1cbd-4e4c-b10d-38332624355f",
            "metadata": {
            },
            "outputs": [
            ],
            "source": "var df2 = df.cols(0,1,2,3,4)\n    .selectAs(\"sepal length\",\"sepal width\", \"petal length\", \"petal width\", \"species\");\nvar df3 = df2.colsAppend(\"Iris Setosa\", \"Iris Versicolour\", \"Iris Virginica\").merge($col(\"species\").castAsStr().mapVal( s->  \n\n}));\n\ndisplay(new Label(printer.print(df3)));"
        },
        {
            "cell_type": "code",
            "execution_count": 0,
            "id": "009a6a2d-d070-40fd-b8e7-c910ea742fb1",
            "metadata": {
            },
            "outputs": [
            ],
            "source": "\n\nfloat[] transform(String s) {\n   return switch(s) {\n     case \"Iris-setosa\" -> new float[]{1f,0f,0f};\n     case \"Iris-versicolor\" -> new float[]{0f,1f,0f};\n     case \"Iris-virginica\" -> new float[]{0f,0f,1f};\n     default -> throw new IllegalArgumentException(\"Unknown IrisFlower \" + s);\n   };\n}\n\nvar items = StreamSupport\n   .stream(Spliterators.spliteratorUnknownSize(df.iterator(), Spliterator.IMMUTABLE), false)\n   .map(r -> new TabularDataSet.Item(new float[] {(float)r.get(0),(float) r.get(1), (float) r.get(2),(float) r.get(3)}, transform(r.get(4).toString())))\n   .toList();\n\nvar dataSet = new TabularDataSet(4,3);\ndataSet.setColumnNames(\"sepal length\",\"sepal width\",\"petal length\", \"petal width\", \"Iris Setosa\", \"Iris Versicolour\", \"Iris Virginica\");\nitems.forEach(i -> dataSet.add(i));"
        },
        {
            "cell_type": "code",
            "execution_count": 0,
            "id": "7eee9ff2-3938-45b8-9511-7f5a4823cba8",
            "metadata": {
            },
            "outputs": [
            ],
            "source": "var scaler = new MaxScaler(dataSet);\nscaler.apply(dataSet);        \n        \nvar trainTestSet = dataSet.split(0.6, 0.4);\nvar trainingSet = trainTestSet[0]; \nvar testSet = trainTestSet[1];\n\nvar neuralNet = FeedForwardNetwork.builder()\n                .addInputLayer(numInputs) \n                .addFullyConnectedLayer(8, ActivationType.RELU) \n                .addOutputLayer(numOutputs, ActivationType.SOFTMAX)\n                .lossFunction(LossType.CROSS_ENTROPY) \n                .randomSeed(456)\n                .build();\n\nrecord EpochAndLoss(int epoch, float loss) {}\n\nvar trainingEvents = new ArrayList<EpochAndLoss>();\nvar trainer = neuralNet.getTrainer();\ntrainer.setMaxError(0.04f);\ntrainer.setLearningRate(0.01f);\ntrainer.setOptimizer(OptimizerType.MOMENTUM);\ntrainer.setMomentum(0.9f); \ntrainer.addListener(e -> trainingEvents.add(\n  new EpochAndLoss(e.getSource().getCurrentEpoch(), e.getSource().getTrainingLoss())\n));\n                \nneuralNet.train(trainingSet);\n         \nvar evaluator = new ClassifierEvaluator();\nvar em = evaluator.evaluate(neuralNet, testSet);\nprintln(\"CLASSIFIER EVALUATION METRICS\"); \nem"
        },
        {
            "cell_type": "markdown",
            "id": "1cc3c65e-d67b-4407-bdcf-3ab00130b6ff",
            "metadata": {
            },
            "source": "## Confusion Matrix"
        },
        {
            "cell_type": "code",
            "execution_count": 0,
            "id": "5919ff98-f4c1-4a8e-bfc8-69efed74435c",
            "metadata": {
            },
            "outputs": [
            ],
            "source": "evaluator.getConfusionMatrix()"
        },
        {
            "cell_type": "code",
            "execution_count": 0,
            "id": "b4c14e34-218d-40f1-b9c5-d98bce4f458a",
            "metadata": {
            },
            "outputs": [
            ],
            "source": "dataSet.getColumnNames()"
        },
        {
            "cell_type": "code",
            "execution_count": 0,
            "id": "df516525-b0ff-44d5-b24b-cf16e46ba937",
            "metadata": {
            },
            "outputs": [
            ],
            "source": "dataSet.getTargetColumnsNames()"
        },
        {
            "cell_type": "code",
            "execution_count": 0,
            "id": "5217837e-502e-4063-9419-64e0d799d6ba",
            "metadata": {
            },
            "outputs": [
            ],
            "source": "enum Column { SEPAL_LENGTH, SEPAL_WIDTH, PETAL_LENGTH, PETAL_WIDTH }"
        },
        {
            "cell_type": "code",
            "execution_count": 0,
            "id": "435da983-6858-4295-b0a7-da7c99dac1f6",
            "metadata": {
            },
            "outputs": [
            ],
            "source": "enum IrisFlowerClass { SETOSA, VERSICOLOR, VIRGINICA }"
        },
        {
            "cell_type": "code",
            "execution_count": 0,
            "id": "1957bdc6-3660-4f4a-a49d-605b1af97659",
            "metadata": {
            },
            "outputs": [
            ],
            "source": "record Row (float sepal_length, float sepal_width, float petal_length, float petal_width, IrisFlowerClass irisFlower) {}"
        },
        {
            "cell_type": "code",
            "execution_count": 0,
            "id": "5ac9fddc-0c8a-44c5-bde9-bfe754d8c365",
            "metadata": {
            },
            "outputs": [
            ],
            "source": "var r = (TabularDataSet.Item) dataSet.getItems().stream().findFirst().get();\nr.getTargetOutput()"
        },
        {
            "cell_type": "code",
            "execution_count": 0,
            "id": "ab2a711e-7bce-4359-ad46-fa25edde0086",
            "metadata": {
            },
            "outputs": [
            ],
            "source": "var x = trainingEvents.stream().mapToInt(e -> e.epoch()).toArray();\nvar y = trainingEvents.stream().mapToDouble(e -> e.loss()).toArray();\nx.length"
        },
        {
            "cell_type": "code",
            "execution_count": 0,
            "id": "46c4a5bf-33f8-4992-ad5c-9b15575efc32",
            "metadata": {
            },
            "outputs": [
            ],
            "source": "var chart = lineFx(x,y, \"Epoch\", \"Training Loss\", \"Training Run\");"
        },
        {
            "cell_type": "code",
            "execution_count": 0,
            "id": "bf7eac0c-56e8-4e18-957f-0767e985ab92",
            "metadata": {
            },
            "outputs": [
            ],
            "source": "display(chart)"
        },
        {
            "cell_type": "code",
            "execution_count": 0,
            "id": "fb31b347-29d3-497d-af18-9202917aa738",
            "metadata": {
            },
            "outputs": [
            ],
            "source": "df.getColumnsIndex()"
        }
    ],
    "metadata": {
        "kernel_info": {
            "name": "JTaccuino",
            "version": "0.1"
        },
        "language_info": {
            "name": "Java",
            "version": "25"
        }
    },
    "nbformat": 4,
    "nbformat_minor": 5
}