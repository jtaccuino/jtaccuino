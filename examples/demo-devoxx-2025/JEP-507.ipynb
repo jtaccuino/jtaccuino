{
    "cells": [
        {
            "cell_type": "markdown",
            "id": "52be5883-5c74-4a95-ab79-de2cd79a7efc",
            "metadata": {
            },
            "source": "# Pattern matching with simple types"
        },
        {
            "cell_type": "code",
            "execution_count": 0,
            "id": "e6c37855-7c85-4434-979e-fe42827d12c0",
            "metadata": {
            },
            "outputs": [
            ],
            "source": "var i = (Object) 5"
        },
        {
            "cell_type": "code",
            "execution_count": 0,
            "id": "5f5a974e-2987-4e6c-8263-fed2ea5071f1",
            "metadata": {
            },
            "outputs": [
            ],
            "source": "if (i instanceof byte b) {  // value of i fits in a byte\n        println(\"\" + b);\n}"
        },
        {
            "cell_type": "code",
            "execution_count": 0,
            "id": "a1fd79b2-55ab-4d1b-b884-93baa21c3921",
            "metadata": {
            },
            "outputs": [
            ],
            "source": "i"
        },
        {
            "cell_type": "code",
            "execution_count": 0,
            "id": "86cf00ee-06f0-4287-b31e-764c8e016637",
            "metadata": {
            },
            "outputs": [
            ],
            "source": "long v = 2L;\nswitch (v) {\n  case 1L              -> println (\"we have a 1\"); \n  case 2L              -> println (\"We have a 2\");\n  case 10_000_000_000L -> println (\"10 Billion\");\n  case 20_000_000_000L -> println (\"20 Billion\");\n  case long x          -> println (\"other\");\n}\n"
        }
    ],
    "metadata": {
        "language_info": {
            "name": "Java",
            "version": "25"
        },
        "kernel_info": {
            "name": "JTaccuino",
            "version": "0.1"
        }
    },
    "nbformat": 4,
    "nbformat_minor": 5
}