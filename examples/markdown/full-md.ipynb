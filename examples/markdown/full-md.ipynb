{
    "cells": [
        {
            "cell_type": "markdown",
            "id": "71a5bad9-f2a0-462b-9f9e-a4ae60b41b8c",
            "metadata": {
            },
            "source": "# Headers\n\n```\n# h1 Heading 8-)\n## h2 Heading\n### h3 Heading\n#### h4 Heading\n##### h5 Heading\n###### h6 Heading\n\nAlternatively, for H1 and H2, an underline-ish style:\n\nAlt-H1\n======\n\nAlt-H2\n------\n```\t\n\n# h1 Heading 8-)\n## h2 Heading\n### h3 Heading\n#### h4 Heading\n##### h5 Heading\n###### h6 Heading\n\nAlternatively, for H1 and H2, an underline-ish style:\n\nAlt-H1\n======\n\nAlt-H2\n------\n\n------"
        },
        {
            "cell_type": "markdown",
            "id": "5d27a4ce-7f3f-4052-8ec1-1f95c1349ddd",
            "metadata": {
            },
            "source": "# Emphasis\n\n```\nEmphasis, aka italics, with *asterisks* or _underscores_.\n\nStrong emphasis, aka bold, with **asterisks** or __underscores__.\n\nCombined emphasis with **asterisks and _underscores_**.\n\nStrikethrough uses two tildes. ~~Scratch this.~~\n\n**This is bold text**\n\n__This is bold text__\n\n*This is italic text*\n\n_This is italic text_\n\n~~Strikethrough~~\n```\n\nEmphasis, aka italics, with *asterisks* or _underscores_.\n\nStrong emphasis, aka bold, with **asterisks** or __underscores__.\n\nCombined emphasis with **asterisks and _underscores_**.\n\nStrikethrough uses two tildes. ~~Scratch this.~~\n\n**This is bold text**\n\n__This is bold text__\n\n*This is italic text*\n\n_This is italic text_\n\n~~Strikethrough~~\n\n------\n"
        },
        {
            "cell_type": "markdown",
            "id": "7ca50511-30e6-465b-83ab-593b2231a29b",
            "metadata": {
            },
            "source": "# Lists\n\n```\n1. First ordered list item\n2. Another item\n⋅⋅* Unordered sub-list.\n1. Actual numbers don't matter, just that it's a number\n⋅⋅1. Ordered sub-list\n4. And another item.\n\n⋅⋅⋅You can have properly indented paragraphs within list items. Notice the blank line above, and the leading spaces (at least one, but we'll use three here to also align the raw Markdown).\n\n⋅⋅⋅To have a line break without a paragraph, you will need to use two trailing spaces.⋅⋅\n⋅⋅⋅Note that this line is separate, but within the same paragraph.⋅⋅\n⋅⋅⋅(This is contrary to the typical GFM line break behaviour, where trailing spaces are not required.)\n\n* Unordered list can use asterisks\n- Or minuses\n+ Or pluses\n\n1. Make my changes\n    1. Fix bug\n    2. Improve formatting\n        - Make the headings bigger\n2. Push my commits to GitHub\n3. Open a pull request\n    * Describe my changes\n    * Mention all the members of my team\n        * Ask for feedback\n\n+ Create a list by starting a line with `+`, `-`, or `*`\n+ Sub-lists are made by indenting 2 spaces:\n  - Marker character change forces new list start:\n    * Ac tristique libero volutpat at\n    + Facilisis in pretium nisl aliquet\n    - Nulla volutpat aliquam velit\n+ Very easy!\n```\n\n1. First ordered list item\n2. Another item\n    * Unordered sub-list.\n1. Actual numbers don't matter, just that it's a number\n    1. Ordered sub-list\n4. And another item.\n\n⋅⋅⋅You can have properly indented paragraphs within list items. Notice the blank line above, and the leading spaces (at least one, but we'll use three here to also align the raw Markdown).\n\n⋅⋅⋅To have a line break without a paragraph, you will need to use two trailing spaces.⋅⋅\n⋅⋅⋅Note that this line is separate, but within the same paragraph.⋅⋅\n⋅⋅⋅(This is contrary to the typical GFM line break behaviour, where trailing spaces are not required.)\n\n* Unordered list can use asterisks\n- Or minuses\n+ Or pluses\n\n1. Make my changes\n    1. Fix bug\n    2. Improve formatting\n        - Make the headings bigger\n2. Push my commits to GitHub\n3. Open a pull request\n    * Describe my changes\n    * Mention all the members of my team\n        * Ask for feedback\n\n+ Create a list by starting a line with `+`, `-`, or `*`\n+ Sub-lists are made by indenting 2 spaces:\n  - Marker character change forces new list start:\n    * Ac tristique libero volutpat at\n    + Facilisis in pretium nisl aliquet\n    - Nulla volutpat aliquam velit\n+ Very easy!\n\n------\n"
        },
        {
            "cell_type": "markdown",
            "id": "f7ba0ad6-741c-4f49-8d6c-d1a677034e6d",
            "metadata": {
            },
            "source": "# Code and Syntax Highlighting\n\n```\nInline `code` has `back-ticks around` it.\n```\n\nInline `code` has `back-ticks around` it.\n\n```c#\nusing System.IO.Compression;\n\n#pragma warning disable 414, 3021\n\nnamespace MyApplication\n{\n    [Obsolete(\"...\")]\n    class Program : IInterface\n    {\n        public static List<int> JustDoIt(int count)\n        {\n            Console.WriteLine($\"Hello {Name}!\");\n            return new List<int>(new int[] { 1, 2, 3 })\n        }\n    }\n}\n```\n\n```css\n@font-face {\n  font-family: Chunkfive; src: url('Chunkfive.otf');\n}\n\nbody, .usertext {\n  color: #F0F0F0; background: #600;\n  font-family: Chunkfive, sans;\n}\n\n@import url(print.css);\n@media print {\n  a[href^=http]::after {\n    content: attr(href)\n  }\n}\n```\n\n```javascript\nfunction $initHighlight(block, cls) {\n  try {\n    if (cls.search(/\\bno\\-highlight\\b/) != -1)\n      return process(block, true, 0x0F) +\n             ` class=\"${cls}\"`;\n  } catch (e) {\n    /* handle exception */\n  }\n  for (var i = 0 / 2; i < classes.length; i++) {\n    if (checkCondition(classes[i]) === undefined)\n      console.log('undefined');\n  }\n}\n\nexport  $initHighlight;\n```\n\n```php\nrequire_once 'Zend/Uri/Http.php';\n\nnamespace Location\\Web;\n\ninterface Factory\n{\n    static function _factory();\n}\n\nabstract class URI extends BaseURI implements Factory\n{\n    abstract function test();\n\n    public static $st1 = 1;\n    const ME = \"Yo\";\n    var $list = NULL;\n    private $var;\n\n    /**\n     * Returns a URI\n     *\n     * @return URI\n     */\n    static public function _factory($stats = array(), $uri = 'http')\n    {\n        echo __METHOD__;\n        $uri = explode(':', $uri, 0b10);\n        $schemeSpecific = isset($uri[1]) ? $uri[1] : '';\n        $desc = 'Multi\nline description';\n\n        // Security check\n        if (!ctype_alnum($scheme)) {\n            throw new Zend_Uri_Exception('Illegal scheme');\n        }\n\n        $this->var = 0 - self::$st;\n        $this->list = list(Array(\"1\"=> 2, 2=>self::ME, 3 => \\Location\\Web\\URI::class));\n\n        return [\n            'uri'   => $uri,\n            'value' => null,\n        ];\n    }\n}\n\necho URI::ME . URI::$st1;\n\n__halt_compiler () ; datahere\ndatahere\ndatahere */\ndatahere\n```"
        }
    ],
    "metadata": {
        "language_info": {
            "name": "Java",
            "version": "23"
        },
        "kernel_info": {
            "name": "JTaccuino",
            "version": "0.1"
        }
    },
    "nbformat": 4,
    "nbformat_minor": 5
}