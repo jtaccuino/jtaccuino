{
    "cells": [
        {
            "cell_type": "code",
            "execution_count": 0,
            "id": "78c643e6-dd5f-4056-a1bb-84d4a30e2c5c",
            "metadata": {
            },
            "outputs": [
            ],
            "source": "addDependency(\"dev.langchain4j:langchain4j:0.35.0\");\naddDependency(\"dev.langchain4j:langchain4j-core:0.35.0\");\naddDependency(\"dev.langchain4j:langchain4j-ollama:0.35.0\");\naddDependency(\"com.squareup.okhttp3:okhttp:4.12.0\");\naddDependency(\"com.squareup.retrofit2:retrofit:2.11.0\");\naddDependency(\"com.squareup.retrofit2:converter-jackson:2.11.0\");\naddDependency(\"com.fasterxml.jackson.core:jackson-core:2.18.0\");\naddDependency(\"com.fasterxml.jackson.core:jackson-databind:2.18.0\");\naddDependency(\"com.fasterxml.jackson.core:jackson-annotations:2.18.0\");\n"
        },
        {
            "cell_type": "code",
            "execution_count": 0,
            "id": "91d45aaf-b4fd-4885-bbf2-cf7056dc39af",
            "metadata": {
            },
            "outputs": [
            ],
            "source": "import dev.langchain4j.data.message.AiMessage;\nimport dev.langchain4j.model.StreamingResponseHandler;\nimport dev.langchain4j.model.chat.ChatLanguageModel;\nimport dev.langchain4j.model.chat.StreamingChatLanguageModel;\nimport dev.langchain4j.model.ollama.OllamaChatModel;\nimport dev.langchain4j.model.ollama.OllamaStreamingChatModel;\nimport dev.langchain4j.model.output.Response;\n\nimport java.time.Duration;"
        },
        {
            "cell_type": "code",
            "execution_count": 0,
            "id": "b96d633f-c06e-4cdf-8c0c-b212f2eb9976",
            "metadata": {
            },
            "outputs": [
            ],
            "source": "var model = \"llava\";\nvar base_url = \"http://localhost:11434\";\nvar timeout = Duration.ofSeconds(120);"
        },
        {
            "cell_type": "code",
            "execution_count": 0,
            "id": "3c9ef410-a96c-4f05-a12d-199d0435b507",
            "metadata": {
            },
            "outputs": [
            ],
            "source": "var chatModel = OllamaChatModel.builder()\n    .baseUrl(base_url)\n    .modelName(model)\n    .timeout(timeout)\n    .build();"
        },
        {
            "cell_type": "code",
            "execution_count": 0,
            "id": "38ed5a96-bb25-4733-8f45-d4f994076f24",
            "metadata": {
            },
            "outputs": [
                {
                    "data": {
                        "text/plain": "String: \" I am a large language model trained by OpenAI. My primary function is to assist with various tasks and answer questions to the best of my ability based on the knowledge and information available to me at the time of the interaction. \""
                    },
                    "metadata": {
                    },
                    "output_type": "display_data"
                }
            ],
            "source": "chatModel.generate(\"Who are you?\");"
        }
    ],
    "metadata": {
        "kernel_info": {
            "version": "0.1",
            "name": "JTaccuino"
        },
        "language_info": {
            "version": "23",
            "name": "Java"
        }
    },
    "nbformat": 4,
    "nbformat_minor": 5
}