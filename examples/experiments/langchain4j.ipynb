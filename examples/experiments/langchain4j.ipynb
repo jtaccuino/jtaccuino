{
    "cells": [
        {
            "cell_type": "code",
            "execution_count": 0,
            "id": "78c643e6-dd5f-4056-a1bb-84d4a30e2c5c",
            "metadata": {
            },
            "outputs": [
            ],
            "source": "addDependency(\"dev.langchain4j:langchain4j:1.0.0-alpha1\");\naddDependency(\"dev.langchain4j:langchain4j-core:1.0.0-alpha1\");\naddDependency(\"dev.langchain4j:langchain4j-ollama:1.0.0-alpha1\");"
        },
        {
            "cell_type": "code",
            "execution_count": 0,
            "id": "91d45aaf-b4fd-4885-bbf2-cf7056dc39af",
            "metadata": {
            },
            "outputs": [
            ],
            "source": "import dev.langchain4j.data.message.AiMessage;\nimport dev.langchain4j.model.StreamingResponseHandler;\nimport dev.langchain4j.model.chat.ChatLanguageModel;\nimport dev.langchain4j.model.chat.StreamingChatLanguageModel;\nimport dev.langchain4j.model.ollama.OllamaChatModel;\nimport dev.langchain4j.model.ollama.OllamaStreamingChatModel;\nimport dev.langchain4j.model.output.Response;\n\nimport java.time.Duration;"
        },
        {
            "cell_type": "code",
            "execution_count": 0,
            "id": "b96d633f-c06e-4cdf-8c0c-b212f2eb9976",
            "metadata": {
            },
            "outputs": [
            ],
            "source": "var model = \"llava\";\nvar base_url = \"http://localhost:11434\";\nvar timeout = Duration.ofSeconds(120);"
        },
        {
            "cell_type": "code",
            "execution_count": 0,
            "id": "3c9ef410-a96c-4f05-a12d-199d0435b507",
            "metadata": {
            },
            "outputs": [
            ],
            "source": "var chatModel = OllamaChatModel.builder()\n    .baseUrl(base_url)\n    .modelName(model)\n    .timeout(timeout)\n    .build();"
        },
        {
            "cell_type": "code",
            "execution_count": 0,
            "id": "38ed5a96-bb25-4733-8f45-d4f994076f24",
            "metadata": {
            },
            "outputs": [
                {
                    "data": {
                        "text/plain": "String: \" I am an AI language model designed to assist with language tasks. \""
                    },
                    "metadata": {
                    },
                    "output_type": "display_data"
                }
            ],
            "source": "chatModel.generate(\"Who are you?\");"
        },
        {
            "cell_type": "code",
            "execution_count": 0,
            "id": "3d32ddc2-d0f9-4a56-a8c2-53bac386fa54",
            "metadata": {
            },
            "outputs": [
                {
                    "data": {
                        "text/plain": "String: \" You are talking to the LLM (Language Model) of a chatbot, which is a type of artificial intelligence that has been trained on a large dataset of text in order to understand and generate natural language. The specific LLM model used by this particular chatbot may not be identifiable without further information about the development of this particular chatbot. \""
                    },
                    "metadata": {
                    },
                    "output_type": "display_data"
                }
            ],
            "source": "chatModel.generate(\"Which llm model am I talking to?\");"
        }
    ],
    "metadata": {
        "kernel_info": {
            "version": "0.1",
            "name": "JTaccuino"
        },
        "language_info": {
            "version": "23",
            "name": "Java"
        }
    },
    "nbformat": 4,
    "nbformat_minor": 5
}