{
    "cells": [
        {
            "cell_type": "markdown",
            "id": "d685a679-a647-422b-a387-eefe7fe9826a",
            "metadata": {
            },
            "source": "<!--\n  ~ Copyright (c) 2023 The Bank of New York Mellon.\n  ~ All rights reserved. This program and the accompanying materials\n  ~ are made available under the terms of the Eclipse Public License v1.0\n  ~ and Eclipse Distribution License v. 1.0 which accompany this distribution.\n  ~ The Eclipse Public License is available at http://www.eclipse.org/legal/epl-v10.html\n  ~ and the Eclipse Distribution License is available at\n  ~ http://www.eclipse.org/org/documents/edl-v10.php.\n  -->\n# **What is the Records Kata?**\nThe Records Kata is a beginner Code Kata with a set exercises that a developer can complete to familiarize themselves with the records feature released in Java 16. \n\nTo read more about the motivation behind the development of the record type in Java: [JEP 395: Records](https://openjdk.org/jeps/395)\n"
        },
        {
            "cell_type": "code",
            "execution_count": 0,
            "id": "96713490-47af-4855-b28e-ba1c30fe4724",
            "metadata": {
            },
            "outputs": [
            ],
            "source": "addDependency(\"org.junit.jupiter:junit-jupiter:5.10.0\");"
        },
        {
            "cell_type": "code",
            "execution_count": 0,
            "id": "1551dc22-3604-4b87-98af-37036a346e95",
            "metadata": {
            },
            "outputs": [
            ],
            "source": "addDependency(\"org.eclipse.collections:eclipse-collections-api:12.0.0.M3\");\naddDependency(\"org.eclipse.collections:eclipse-collections:12.0.0.M3\");"
        },
        {
            "cell_type": "code",
            "execution_count": 0,
            "id": "49349c48-6b1b-49b5-805f-bfef9242fbdb",
            "metadata": {
            },
            "outputs": [
            ],
            "source": "import org.eclipse.collections.api.list.MutableList;\nimport org.eclipse.collections.impl.factory.Lists;\nimport org.junit.jupiter.api.Assertions;\nimport org.junit.jupiter.api.Tag;\nimport org.junit.jupiter.api.Test;"
        },
        {
            "cell_type": "markdown",
            "id": "9c4a9b9e-1f07-4fc9-9575-77adfa7c1f9f",
            "metadata": {
            },
            "source": "Let's define a record representing an openjdk implementation, consisting of company, name of the build and the version."
        },
        {
            "cell_type": "code",
            "execution_count": 0,
            "id": "7e14b9ad-ea41-4930-80d9-f623c269f670",
            "metadata": {
            },
            "outputs": [
            ],
            "source": "record OpenJDKDist(String company, String buildName, String version) {}"
        },
        {
            "cell_type": "markdown",
            "id": "8b8baadd-3feb-4d6b-9026-8421e33a105b",
            "metadata": {
            },
            "source": "Now let's create a list of OpenJDK distributions"
        },
        {
            "cell_type": "code",
            "execution_count": 0,
            "id": "f74df9db-50f2-4abb-ba3c-d011ec768c4b",
            "metadata": {
            },
            "outputs": [
            ],
            "source": "var openJdkDistribution = Lists.mutable.with(\n                new OpenJDKDist(\"Azul\", \"Zulu\", \"11\"),\n                new OpenJDKDist(\"Azul\", \"Zulu\", \"17\"),\n                new OpenJDKDist(\"Azul\", \"Zulu\", \"18\"),\n                new OpenJDKDist(\"Oracle\", \"Openjdk\", \"18\"),\n                new OpenJDKDist(\"Oracle\", \"Openjdk\", \"19\"),\n                new OpenJDKDist(\"Oracle\", \"Openjdk\", \"20\"));"
        },
        {
            "cell_type": "markdown",
            "id": "933ba39a-868a-4993-afce-b686d55c0f89",
            "metadata": {
            },
            "source": "Create and add a record for RedHat Openjdk 21"
        },
        {
            "cell_type": "code",
            "execution_count": 0,
            "id": "3477f203-06bb-4c33-86ce-3cdf09d2e9d2",
            "metadata": {
            },
            "outputs": [
                {
                    "data": {
                        "text/plain": "\"boolean: true\""
                    },
                    "metadata": {
                    },
                    "output_type": "display_data"
                }
            ],
            "source": "openJdkDistribution.add(new OpenJDKDist(\"Red Hat\", \"Openjdk\", \"21\"));"
        },
        {
            "cell_type": "code",
            "execution_count": 0,
            "id": "d55f28c7-25d0-47fa-bf77-bb14699ffe1f",
            "metadata": {
            },
            "outputs": [
                {
                    "data": {
                        "text/plain": "\"OpenJDKDist: OpenJDKDist[company=Red Hat, buildName=Openjdk, version=21]\""
                    },
                    "metadata": {
                    },
                    "output_type": "display_data"
                }
            ],
            "source": "var jdk21 = new OpenJDKDist(\"Red Hat\", \"Openjdk\", \"21\");\njdk21"
        },
        {
            "cell_type": "markdown",
            "id": "d5005984-cda7-4ed4-93a5-1a4435d1c325",
            "metadata": {
            },
            "source": "Notice how we can just call assertEquals (which calls the .equals method) without\nimplementing an equals method for the OpenJDKDist record. The record\nautomatically creates an equals method that compares each field."
        },
        {
            "cell_type": "code",
            "execution_count": 0,
            "id": "b93e74a1-9f72-45d3-895c-7433365117c7",
            "metadata": {
            },
            "outputs": [
            ],
            "source": "Assertions.assertEquals(jdk21, openJdkDistribution.getLastOptional().get());\nAssertions.assertNotEquals(new OpenJDKDist(\"Red Hat\", \"Openjdk\", \"20\"), jdk21);"
        },
        {
            "cell_type": "markdown",
            "id": "5395fdf1-b9c6-4e2c-bdac-a7150fc607d0",
            "metadata": {
            },
            "source": "Now we know how to create a record. Let's use it!\n \nTODO: Get the Azul Zulu version 11 Distribution from our list and extract each field."
        },
        {
            "cell_type": "code",
            "execution_count": 0,
            "id": "c339d6d5-2927-4803-9571-26364dd68c69",
            "metadata": {
            },
            "outputs": [
            ],
            "source": "var zuluJava11 = null;\nAssertions.assertEquals(\"Azul\", null);\nAssertions.assertEquals(\"Zulu\", null);\nAssertions.assertEquals(\"11\", null);"
        }
    ],
    "metadata": {
        "kernel_info": {
            "version": "0.1",
            "name": "JTaccuino"
        },
        "language_info": {
            "version": "23",
            "name": "Java"
        }
    },
    "nbformat": 4,
    "nbformat_minor": 5
}