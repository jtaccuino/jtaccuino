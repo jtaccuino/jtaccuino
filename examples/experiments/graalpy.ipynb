{
    "cells": [
        {
            "cell_type": "code",
            "execution_count": 0,
            "id": "c43b459c-a1a3-45bf-9353-68e269be18db",
            "metadata": {
            },
            "outputs": [
            ],
            "source": "addDependency(\"org.graalvm.python:python-language:24.1.0\");\naddDependency(\"org.graalvm.python:python-launcher:24.1.0\");\naddDependency(\"org.graalvm.python:python-resources:24.1.0\");\naddDependency(\"org.graalvm.python:python-embedding:24.1.0\");\naddDependency(\"org.graalvm.python:python-embedding-tools:24.1.0\");"
        },
        {
            "cell_type": "code",
            "execution_count": 0,
            "id": "d0ddfbcc-7311-44e6-88b2-7441e755b704",
            "metadata": {
            },
            "outputs": [
            ],
            "source": "import org.graalvm.polyglot.Context;"
        },
        {
            "cell_type": "code",
            "execution_count": 0,
            "id": "ea7f2298-7ed4-4a2c-8586-e2100082bbb9",
            "metadata": {
            },
            "outputs": [
            ],
            "source": "var c = Context.create();"
        },
        {
            "cell_type": "code",
            "execution_count": 0,
            "id": "b8f3b8ec-0178-433e-acc6-ca01693c51e4",
            "metadata": {
            },
            "outputs": [
            ],
            "source": "record Person (String firstname, String surename){};"
        },
        {
            "cell_type": "code",
            "execution_count": 0,
            "id": "dfdc4e11-266d-4233-a08c-8f3bdf77796f",
            "metadata": {
            },
            "outputs": [
            ],
            "source": "var p = new Person(\"Sven\", \"Reimers\");"
        },
        {
            "cell_type": "code",
            "execution_count": 0,
            "id": "3b582a0d-56c6-4791-b034-f099c27748c9",
            "metadata": {
            },
            "outputs": [
            ],
            "source": "var s= \"MyName\";"
        },
        {
            "cell_type": "code",
            "execution_count": 0,
            "id": "443933a3-117e-41d7-9f0d-35b8abfb7f12",
            "metadata": {
            },
            "outputs": [
            ],
            "source": "var py = c.getBindings(\"python\");"
        },
        {
            "cell_type": "code",
            "execution_count": 0,
            "id": "1da36a7f-4751-4e0e-a1ba-671d79813e3b",
            "metadata": {
            },
            "outputs": [
            ],
            "source": "py.putMember(\"p\", p);"
        },
        {
            "cell_type": "code",
            "execution_count": 0,
            "id": "e7203f77-dfa3-48a0-9c9d-67e371cdf810",
            "metadata": {
            },
            "outputs": [
            ],
            "source": "py.putMember(\"s\", s);"
        },
        {
            "cell_type": "code",
            "execution_count": 0,
            "id": "fe64a516-47d4-4b31-a620-456b99b85469",
            "metadata": {
            },
            "outputs": [
                {
                    "data": {
                        "text/plain": "org.graalvm.polyglot.Value: ['__add__', '__class__', '__contains__', '__delattr__', '__dir__', '__doc__', '__eq__', '__format__', '__ge__', '__getattribute__', '__getitem__', '__getnewargs__', '__getstate__', '__gt__', '__hash__', '__init__', '__init_subclass__', '__iter__', '__le__', '__len__', '__lt__', '__mod__', '__mul__', '__ne__', '__new__', '__reduce__', '__reduce_ex__', '__repr__', '__rmod__', '__rmul__', '__setattr__', '__sizeof__', '__str__', '__subclasshook__', '__truffle_richcompare__', 'capitalize', 'casefold', 'center', 'count', 'encode', 'endswith', 'expandtabs', 'find', 'format', 'format_map', 'index', 'isalnum', 'isalpha', 'isascii', 'isdecimal', 'isdigit', 'isidentifier', 'islower', 'isnumeric', 'isprintable', 'isspace', 'istitle', 'isupper', 'join', 'ljust', 'lower', 'lstrip', 'maketrans', 'partition', 'removeprefix', 'removesuffix', 'replace', 'rfind', 'rindex', 'rjust', 'rpartition', 'rsplit', 'rstrip', 'split', 'splitlines', 'startswith', 'strip', 'swapcase', 'title', 'translate', 'upper', 'zfill']"
                    },
                    "metadata": {
                    },
                    "output_type": "display_data"
                }
            ],
            "source": "c.eval(\"python\", \"dir(s)\");"
        },
        {
            "cell_type": "code",
            "execution_count": 0,
            "id": "bac3700b-9aa3-48c1-a22b-82e579db1551",
            "metadata": {
            },
            "outputs": [
                {
                    "data": {
                        "text/plain": "org.graalvm.polyglot.Value: <module '__main__'>"
                    },
                    "metadata": {
                    },
                    "output_type": "display_data"
                }
            ],
            "source": "c.eval(\"python\", \"\"\"\ns += \" and more\" \n\"\"\");"
        }
    ],
    "metadata": {
        "language_info": {
            "name": "Java",
            "version": "23"
        },
        "kernel_info": {
            "name": "JTaccuino",
            "version": "0.1"
        }
    },
    "nbformat": 4,
    "nbformat_minor": 5
}