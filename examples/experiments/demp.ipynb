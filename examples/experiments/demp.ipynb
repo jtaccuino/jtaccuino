{
    "cells": [
        {
            "cell_type": "markdown",
            "id": "392a1a88-1098-4e91-8d63-fe8d546ec21e",
            "metadata": {
            },
            "source": "# Basic Things to Show\n* Markdown Cells -> full-md.ipynb\n* Code completion\n* Syntax highlighting\n* Error markers \n* Marking of outdated cells\n* Interactive display of data -> recordsDisplay.ipynb\n* Add dependencies -> EC-Kata-Test.ipynb\n\n# Advanced Demos\n* Interactive 3D Visualization using JavaFX and [Fxyz3D](https://github.com/FXyz/FXyz) -> fxyz3d.ipynb\n* Data intensive application from space -> satelliteCloud.ipynb\n\n"
        },
        {
            "cell_type": "markdown",
            "id": "78e3453d-5640-4ba4-92bd-a76f04089ba2",
            "metadata": {
            },
            "source": "## code completion\n```\nimport java.util.ArrayList;\nvar l = new ArrayList();\nl.size();\n```"
        }
    ],
    "metadata": {
        "language_info": {
            "name": "Java",
            "version": "23"
        },
        "kernel_info": {
            "name": "JTaccuino",
            "version": "0.1"
        }
    },
    "nbformat": 4,
    "nbformat_minor": 5
}